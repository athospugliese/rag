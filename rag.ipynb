{
 "cells": [
  {
   "cell_type": "markdown",
   "metadata": {},
   "source": [
    "### python requirements"
   ]
  },
  {
   "cell_type": "code",
   "execution_count": null,
   "metadata": {},
   "outputs": [],
   "source": [
    "%pip install langchain-nomic langchain_community tiktoken langchainhub langchain-elasticsearch langchain langgraph tavily-python gpt4all langchain-text-splitters bs4"
   ]
  },
  {
   "cell_type": "markdown",
   "metadata": {},
   "source": [
    "### environments"
   ]
  },
  {
   "cell_type": "code",
   "execution_count": 1,
   "metadata": {},
   "outputs": [],
   "source": [
    "# LLM\n",
    "local_llm = \"llama3\""
   ]
  },
  {
   "cell_type": "markdown",
   "metadata": {},
   "source": [
    "### indexing"
   ]
  },
  {
   "cell_type": "code",
   "execution_count": 4,
   "metadata": {},
   "outputs": [],
   "source": [
    "from langchain_community.document_loaders import WebBaseLoader\n",
    "from langchain_nomic.embeddings import NomicEmbeddings\n",
    "from langchain_elasticsearch import ElasticsearchStore\n",
    "from langchain_text_splitters import RecursiveCharacterTextSplitter\n",
    "\n",
    "\n",
    "# To scraping\n",
    "urls = [\n",
    "    \"https://medium.com/@WLWisdomPro/i-tried-the-lightning-diet-and-lost-40-pounds-in-30-days-here-s-what-happened-8a035beeef7f\",\n",
    "    \"https://readmedium.com/en/https://medium.com/write-a-catalyst/i-lost-10-of-my-body-fat-with-5-small-diet-changes-f9aeefe3793d\",\n",
    "    \"https://readmedium.com/en/https://medium.com/smart-quitter/change-1-sneaky-diet-mistake-if-you-dont-want-to-be-fat-over-40-d18a5ecb2620\",\n",
    "]\n",
    "\n",
    "docs = [WebBaseLoader(url).load() for url in urls]\n",
    "docs_list = [item for sublist in docs for item in sublist]\n",
    "\n",
    "text_splitter = RecursiveCharacterTextSplitter.from_tiktoken_encoder(\n",
    "    chunk_size=250, chunk_overlap=0\n",
    ")\n",
    "doc_splits = text_splitter.split_documents(docs_list)\n",
    "documents=doc_splits\n",
    "\n",
    "embeddings=NomicEmbeddings(model=\"nomic-embed-text-v1.5\", inference_mode=\"local\")\n",
    "\n",
    "\n",
    "# Initialize Elasticsearch store\n",
    "db = ElasticsearchStore.from_documents(\n",
    "    documents,\n",
    "    embeddings,\n",
    "    es_url=\"https://0a84a922ebbc48e3b90bb4584a218609.us-central1.gcp.cloud.es.io:443\",\n",
    "    es_user=\"enterprise_search\",\n",
    "    es_password=\"enterprise_search123\",\n",
    "    index_name=\"metrics-endpoint.metadata_current_default\",\n",
    "    )\n",
    "\n",
    "retriever = db.as_retriever()"
   ]
  },
  {
   "cell_type": "markdown",
   "metadata": {},
   "source": [
    "### retrieval grader"
   ]
  },
  {
   "cell_type": "code",
   "execution_count": 5,
   "metadata": {},
   "outputs": [
    {
     "name": "stdout",
     "output_type": "stream",
     "text": [
      "\n",
      "Grader Result:\n",
      "{\n",
      "  \"relevance\": 2,\n",
      "  \"explanation\": \"The document discusses the author's personal experience of losing 10% body fat through five dietary changes, but it does not directly answer the question 'What is the best diet to lose calories?' The article provides general tips and advice on how to achieve weight loss, but it does not provide a specific diet plan or recommendation. Therefore, the relevance score is 2 out of 5.\"\n",
      "}\n"
     ]
    }
   ],
   "source": [
    "from langchain_community.chat_models import ChatOllama\n",
    "from langchain_core.output_parsers import JsonOutputParser\n",
    "from langchain_core.prompts import PromptTemplate\n",
    "import json\n",
    "\n",
    "llm = ChatOllama(model=local_llm, format=\"json\", temperature=0)\n",
    "\n",
    "prompt = PromptTemplate(\n",
    "    template=\"\"\"You are a retrieval grader. Given the question and the document below, evaluate if the document directly answers the question.\n",
    "    Question: {question}\n",
    "    Document: {document}\n",
    "    Respond in JSON format with fields:\n",
    "    - relevance: a score from 1 (not relevant) to 5 (highly relevant)\n",
    "    - explanation: a brief explanation for the score.\"\"\",\n",
    "    input_variables=[\"question\", \"document\"],\n",
    ")\n",
    "\n",
    "retrieval_grader = prompt | llm | JsonOutputParser()\n",
    "\n",
    "test_question = \"What is the best diet to lose calories?\"\n",
    "\n",
    "# Retrieve documents\n",
    "docs = retriever.invoke(test_question)  \n",
    "\n",
    "# To check the docs\n",
    "if docs:\n",
    "    for i, doc in enumerate(docs):\n",
    "        doc_txt = docs[1].page_content  \n",
    "\n",
    "    result = retrieval_grader.invoke({\"question\": test_question, \"document\": doc_txt})\n",
    "\n",
    "    print(\"\\nGrader Result:\")\n",
    "    print(json.dumps(result, indent=2))  \n",
    "else:\n",
    "    print(\"No documents retrieved.\")\n"
   ]
  }
 ],
 "metadata": {
  "kernelspec": {
   "display_name": "Python 3",
   "language": "python",
   "name": "python3"
  },
  "language_info": {
   "codemirror_mode": {
    "name": "ipython",
    "version": 3
   },
   "file_extension": ".py",
   "mimetype": "text/x-python",
   "name": "python",
   "nbconvert_exporter": "python",
   "pygments_lexer": "ipython3",
   "version": "3.12.2"
  }
 },
 "nbformat": 4,
 "nbformat_minor": 2
}
